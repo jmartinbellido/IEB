{
  "nbformat": 4,
  "nbformat_minor": 0,
  "metadata": {
    "colab": {
      "name": "IEB_Python_N9.ipynb",
      "provenance": [],
      "collapsed_sections": [],
      "toc_visible": true
    },
    "kernelspec": {
      "name": "python3",
      "display_name": "Python 3"
    }
  },
  "cells": [
    {
      "cell_type": "markdown",
      "metadata": {
        "id": "Iq0dLzFr2tux"
      },
      "source": [
        "# TABLE OF CONTENTS\n",
        "# **IEB MiM&A** \n",
        "# Introduction to Python for Data Analysis 🐍📊\n",
        "# *Notebook 9: Reporting Insights with Python*\n",
        "---\n",
        "\n",
        "### TABLE OF CONTENTS\n",
        "1. IMPORTING/EXPORTING CSV, TXT, XLSX \n",
        "2. BUILDING A PDF REPORT\n",
        "3. EXERCISES\n",
        "\n",
        "### 🧑‍🏫 Juan Martin Bellido\n",
        "* [linkedin.com/in/jmartinbellido](https://www.linkedin.com/in/jmartinbellido/)\n",
        "* juan.martin.bellido.arias@claustro-ieb.es\n",
        "\n",
        "*Please note that this section should be run in your local environment*\n"
      ]
    },
    {
      "cell_type": "code",
      "metadata": {
        "id": "5eqClCOoPuPC"
      },
      "source": [
        "# importing libraries\n",
        "import pandas as pd\n",
        "import matplotlib.pyplot as plt\n",
        "import seaborn as sn\n",
        "import os\n",
        "import fpdf\n",
        "from fpdf import FPDF\n",
        "import dataframe_image as dfi"
      ],
      "execution_count": null,
      "outputs": []
    },
    {
      "cell_type": "markdown",
      "metadata": {
        "id": "mD52h4jNYy6m"
      },
      "source": [
        "# BUILDING A REPORT\n",
        "---\n",
        "There are many formats we can use to deliver insights: dashboards, white papers, presentations and reports. Reports are easy to share and print, therefore a very popular solution when the focus is set on automation.\n",
        "\n",
        "In this section, we will learn how to build reports on PDF programatically. For this, we will need to install the *fpdf* and *dataframe_image* libraries, \n",
        "\n",
        "```\n",
        "!pip install fpdf\n",
        "```\n",
        "\n",
        "```\n",
        "!pip install dataframe_image\n",
        "```\n"
      ]
    },
    {
      "cell_type": "markdown",
      "metadata": {
        "id": "u-rVF6i_Y_lJ"
      },
      "source": [
        "Functions to be introduced in this section,\n",
        "\n",
        "**FPDF library**: *this library contains functions to build PDF documents programatically*\n",
        "\n",
        "| #  | Function       | Description                                                                                                                                                          | Key Parameters                                                                |\n",
        "|----|----------------|----------------------------------------------------------------------------------------------------------------------------------------------------------------------|-------------------------------------------------------------------------------|\n",
        "| 1  | .FPDF()        | *Creates a new empty PDF document in memory. Orientation can be set to Portrait (P) or Landscape (L)*                                                                | orientation='P'/'L', unit='mm', format='A4'                                   |\n",
        "| 2  | .add_page()    | *Creates a new blank page in PDF object. You can change orientation and format for a specific page*                                                                  | orientation='P'/'L', format='A4'                                              |\n",
        "| 3  | .set_font()    | *Sets the font used to print character strings. It is mandatory to call this method at least once before printing text or the resulting document would not be valid* | family='Arial', style =''/'B'/'I', size=x                                     |\n",
        "| 4  | .cell()        | *Creates a cell (i.e. container) with optional text, background color, border and hyperlinks*                                                                        | w=0, h=0, txt ='', border=0, align='L'/'C'/'R', fill=False, ln=0/1/2, link='' |\n",
        "| 5  | .image()       | *Imports an image to the PDF either from local drive or the internet*                                                                                                | 'file', x=None, y=None, w=0, h=0, type='', link=''                            |\n",
        "| 6  | .output()      | *Exports PDF object to local drive*                                                                                                                                  | 'file_name.pdf', 'F'                                                          |\n",
        "| 7  | .multi_cell()  | *Builds a cell (i.e. container) that can include more than one line of text*                                                                                         | w=0, h=0, txt='', border=0, align='L'/'C'/'R'/'J', fill= False                |\n",
        "| 8  | .set_margins() | *Margins are by default 1 cm. This function allows to change left, top and right default margins*                                                                    | left=x, top=x, right=x                                                        |\n",
        "| 9  | .set_xy()      | *Use before cell() or multi_cell() to manually establish coordinates in page*                                                                                        | x=x, y=x                                                                      |\n",
        "| 10 | .page_no()     | *Retrieves page number in document*                                                                                                                                  |                                                                               |\n",
        "| 11 | .ln()          | *Insert a line break*                                                                                                                                                | h=x                                                                           |\n",
        "| 12 | .line()        | *Inserts a line in the PDF; it can be combined to create forms*                                                                                                      | x1=x, y1=x, x2=x, y2=x                                                        |\n",
        "| 13 | .set_title()   | *Edits the metadata to include document title; note that this is not visible in the pdf*                                                                             | title=''                                                                      |\n",
        "| 14 | .set_author()  | *Edits the metadata to include author; note that this is not visible in the pdf*                                                                                     | author=''                                                                     |\n",
        "\n",
        "*library official documentation: https://pyfpdf.readthedocs.io/en/latest/index.html*\n",
        "\n",
        "\n",
        "**dataframe_image**: *we will use this library to store tables as images*\n",
        "\n",
        "| # | Function     | Description                                           | Key Parameters   |\n",
        "|---|--------------|-------------------------------------------------------|------------------|\n",
        "| 1 | dfi.export() | This function exports tables as images in local drive | table, file_name |\n",
        "\n"
      ]
    },
    {
      "cell_type": "code",
      "metadata": {
        "id": "r38N5PKWYy6x"
      },
      "source": [
        "# Import dataframe\n",
        "df_jamesbond = pd.read_csv(\"https://data-wizards.s3.amazonaws.com/datasets/jamesbond.csv\",index_col=\"Film\")"
      ],
      "execution_count": null,
      "outputs": []
    },
    {
      "cell_type": "markdown",
      "metadata": {
        "id": "ap00oqAZYy6y"
      },
      "source": [
        "### First dummy report\n",
        "---\n",
        "We will begin with a first simply report to get familiar with the syntaxis."
      ]
    },
    {
      "cell_type": "code",
      "metadata": {
        "colab": {
          "base_uri": "https://localhost:8080/",
          "height": 35
        },
        "id": "AVQ7mQbMc67C",
        "outputId": "3dc5e814-ddcf-41c6-9eb4-c7556a8cee29"
      },
      "source": [
        "# DUMMY 1\n",
        "# one page PDF dummy example\n",
        "\n",
        "# we create a blank PDF object\n",
        "my_pdf = FPDF()\n",
        "\n",
        "# let us create a first blank page\n",
        "my_pdf.add_page()\n",
        "\n",
        "# container number 1 = title\n",
        "my_pdf.set_font(family='Arial', style='B', size=16) # we specify font\n",
        "my_pdf.cell(w=0, h=10, txt='My First PDF', border = 1, ln = 1, align='C') # we include our first cell/container\n",
        "## h=10 -> the container is 10 mm (1 cm) high\n",
        "## w=0 -> we don't specify width, it will take as muchn as needed\n",
        "## txt='My First PDF' -> this is the text to be contained\n",
        "## border = 1 -> the cell will include border\n",
        "## ln = 1 -> this means that next cell (container) will be placed right below this one (i.e. not on the right)\n",
        "## align='C' -> aligning in the center\n",
        "\n",
        "# container number 2 = author\n",
        "my_pdf.set_font(family='Arial', style='', size=10) # we modify font\n",
        "my_pdf.cell(w=0, h=8, txt='By Juan Martin Bellido', border = 0, ln = 1, align='L') # new cell, this one will be placed right below the one before (as we set ln=1 in the previous one)\n",
        "\n",
        "# including a page break\n",
        "my_pdf.ln(10) # the break will be of 10 mm (1 cm)  \n",
        "\n",
        "# container number 3 = long text\n",
        "txt_input = 'Lorem ipsum dolor sit amet, consectetur adipiscing elit, sed do eiusmod tempor incididunt ut labore et dolore magna aliqua. Ut enim ad minim veniam, quis nostrud exercitation ullamco laboris nisi ut aliquip ex ea commodo consequat. Duis aute irure dolor in reprehenderit in voluptate velit esse cillum dolore eu fugiat nulla pariatur. Excepteur sint occaecat cupidatat non proident, sunt in culpa qui officia deserunt mollit anim id est laborum.'\n",
        "my_pdf.multi_cell(w=0, h=4, txt=txt_input, border = 0, align='L', fill= False)\n",
        "## the .multi_cell() function is intented when we need to include a long piece of text (i.e. not a single line)\n",
        "\n",
        "# export PDF to local drive\n",
        "my_pdf.output('pdf_dummy_1.pdf', 'F')\n",
        "## the first parameter is the name of the output\n",
        "## 'F' -> this indicates that we intend the output to be stored in our local drive\n"
      ],
      "execution_count": null,
      "outputs": [
        {
          "output_type": "execute_result",
          "data": {
            "application/vnd.google.colaboratory.intrinsic+json": {
              "type": "string"
            },
            "text/plain": [
              "''"
            ]
          },
          "metadata": {
            "tags": []
          },
          "execution_count": 12
        }
      ]
    },
    {
      "cell_type": "markdown",
      "metadata": {
        "id": "BvXlejjgW97F"
      },
      "source": [
        "### Second dummy report\n",
        "---\n",
        "In our second dummy report, we will include an image, add background color to a cell and play with margins to fit text correctly"
      ]
    },
    {
      "cell_type": "code",
      "metadata": {
        "id": "h-0SFHMBXLpv"
      },
      "source": [
        "# DUMMY 2\n",
        "# we create a blank PDF object\n",
        "my_pdf = FPDF()\n",
        "\n",
        "# let us create a first blank page\n",
        "my_pdf.add_page()\n",
        "\n",
        "# container number 1 = title\n",
        "my_pdf.set_fill_color(r=0, g=0, b=0) # we change cell background color to black; color ref -> https://htmlcolorcodes.com/es/\n",
        "my_pdf.set_text_color(r=255, g=255, b=255) # we change text color to white\n",
        "my_pdf.set_font(family='Arial', style='', size=16) # we set font\n",
        "my_pdf.cell(w=0, h=10, txt='Intro to Python', border = 1, ln = 1, align='C', fill=True)\n",
        "## fill=True -> this is will include background color to the container (color based on what we set in .set_fill_color())\n",
        "\n",
        "# container number 2 = author\n",
        "my_pdf.set_text_color(r=0, g=0, b=0) # we change text color back to normal (black)\n",
        "my_pdf.set_font(family='Arial', style='I', size=10)\n",
        "my_pdf.cell(w=0, h=8, txt='By Juan Martin Bellido', border = 0, ln = 1, align='L')\n",
        "\n",
        "# break\n",
        "my_pdf.ln(10)\n",
        "\n",
        "# image\n",
        "image_location = 'https://upload.wikimedia.org/wikipedia/commons/thumb/c/c3/Python-logo-notext.svg/110px-Python-logo-notext.svg.png'\n",
        "link = 'https://en.wikipedia.org/wiki/Python_(programming_language)'\n",
        "my_pdf.image(image_location, x = 10, y = 37, w = 30, h = 0, type = '', link = link)\n",
        "## the image is being imported from the internet\n",
        "## we include a hyperlink\n",
        "## important: images are placed using coordinates (x and y) and are independent of other containers\n",
        "\n",
        "# container number 3 = title\n",
        "my_pdf.set_xy(x=45, y=36) # this establishes coordinates for next cells; we change coordinate X to force text to fit image\n",
        "my_pdf.set_font(family='Arial', style='B', size=16) # we set font\n",
        "my_pdf.cell(w=0, h=8, txt='About Python (Wikipedia)', border = 0, ln = 1, align='L')\n",
        "\n",
        "# container number 4 = long text\n",
        "my_pdf.set_xy(x=45, y=44) # this establishes coordinates for next cells; we change coordinate X to force text to fit image\n",
        "my_pdf.set_font(family='Arial', style='', size=10) # we set font\n",
        "txt_input = \"Python is an interpreted, high-level and general-purpose programming language. Python's design philosophy emphasizes code readability with its notable use of significant indentation. Its language constructs and object-oriented approach aim to help programmers write clear, logical code for small and large-scale projects. Python is dynamically-typed and garbage-collected. It supports multiple programming paradigms, including structured (particularly, procedural), object-oriented and functional programming. Python is often described as a batteries included language due to its comprehensive standard library.\"\n",
        "my_pdf.multi_cell(w=100, h=5, txt=txt_input, border = 0, align='L', fill= False)   \n",
        "    \n",
        "# Metadata\n",
        "my_pdf.set_title('My First PDF')\n",
        "my_pdf.set_author('Juan Martin Bellido')\n",
        "\n",
        "# export PDF to local drive\n",
        "my_pdf.output('pdf_dummy_2.pdf', 'F')"
      ],
      "execution_count": null,
      "outputs": []
    },
    {
      "cell_type": "markdown",
      "metadata": {
        "id": "TWeAr120Zbn_"
      },
      "source": [
        "### Third dummy report\n",
        "---\n",
        "This now gets interesting. In our third dummy report, we include data tables and charts for the first time. \n",
        "\n",
        "We will now,\n",
        "* introduce how to store data tables as images in our local drive\n",
        "* incorporate data tables and charts into our PDF report\n",
        "* create more than one page\n",
        "* store the document in a subfolder within our path\n",
        "\n",
        "*Note: for this example we will be using static data (a dataframe that never changes), but the real magic of building a report programatically is to use it to reproduce new data without effort*"
      ]
    },
    {
      "cell_type": "code",
      "metadata": {
        "id": "Lp7XL5_JZdEn"
      },
      "source": [
        "# creating a new folder in our path for the report\n",
        "os.mkdir('james_bond_report')\n",
        "## this works only when run in our local environment"
      ],
      "execution_count": null,
      "outputs": []
    },
    {
      "cell_type": "code",
      "metadata": {
        "colab": {
          "base_uri": "https://localhost:8080/"
        },
        "id": "Qt-qPO8lZiLD",
        "outputId": "d68ea717-5150-424d-bd99-278db8caa25b"
      },
      "source": [
        "# importing a dataframe\n",
        "df_jamesbond = pd.read_csv(\"https://data-wizards.s3.amazonaws.com/datasets/jamesbond.csv\",index_col=\"Film\")\n",
        "df_jamesbond.dtypes"
      ],
      "execution_count": null,
      "outputs": [
        {
          "output_type": "execute_result",
          "data": {
            "text/plain": [
              "Year                   int64\n",
              "Actor                 object\n",
              "Director              object\n",
              "Box Office           float64\n",
              "Budget               float64\n",
              "Bond Actor Salary    float64\n",
              "dtype: object"
            ]
          },
          "metadata": {
            "tags": []
          },
          "execution_count": 4
        }
      ]
    },
    {
      "cell_type": "code",
      "metadata": {
        "id": "KCtcijNxZxos"
      },
      "source": [
        "# table 1: movies\n",
        "table_1 = df_jamesbond.sort_values(\"Year\")[['Year','Actor','Director']] # we create a simple data table\n",
        "dfi.export(table_1, 'james_bond_report/table_1.png') # we export the table to our local drive as image (only works when run in local environment)"
      ],
      "execution_count": null,
      "outputs": []
    },
    {
      "cell_type": "code",
      "metadata": {
        "id": "kvR2oXlZaM12"
      },
      "source": [
        "# table 2: actors frequency\n",
        "table_2 = df_jamesbond['Actor'].value_counts().to_frame() # we create a simple data table\n",
        "## we need to use the .to_frame() function to convert series into a formal DataFrame\n",
        "dfi.export(table_2, 'james_bond_report/table_2.png') # we export the table to our local drive as image (only works when run in local environment)"
      ],
      "execution_count": null,
      "outputs": []
    },
    {
      "cell_type": "code",
      "metadata": {
        "id": "lDncGA70aa0K"
      },
      "source": [
        "# chart 1: total bond actor salary, by actor\n",
        "chart_1 = df_jamesbond.groupby(\"Actor\").agg({\"Bond Actor Salary\":\"sum\"}).sort_values(\"Bond Actor Salary\").plot(kind = 'barh') # building a simple bar chart\n",
        "plt.savefig('james_bond_report/chart_1.png', dpi=80, bbox_inches='tight') # storing chart in local drive as image\n",
        "## dpi=80 -> this sets how big the chart is\n",
        "## bbox_inches='tight' -> this is to avoid extra borders"
      ],
      "execution_count": null,
      "outputs": []
    },
    {
      "cell_type": "code",
      "metadata": {
        "id": "DFSWB364aie1"
      },
      "source": [
        "# chart 2: time series\n",
        "df_jamesbond.set_index(\"Year\")\\\n",
        "    [[\"Box Office\",\"Budget\"]]\\\n",
        "    .plot(figsize=(12,8),subplots=True) # subplots allows to build independent charts for each variable\n",
        "\n",
        "plt.savefig('james_bond_report/chart_2.png', dpi=80, bbox_inches='tight') # storing chart in local drive as image"
      ],
      "execution_count": null,
      "outputs": []
    },
    {
      "cell_type": "code",
      "metadata": {
        "id": "z4IuwmAwa0W1"
      },
      "source": [
        "# DUMMY PDF 3: James Bond Report\n",
        "\n",
        "# we create a blank PDF object\n",
        "my_pdf = FPDF()\n",
        "\n",
        "# PAGE 1\n",
        "my_pdf.add_page()\n",
        "\n",
        "# container number 1 = title\n",
        "my_pdf.set_font(family='Arial', style='', size=16) # we set font\n",
        "my_pdf.cell(w=0, h=10, txt='James Bond Movies Report', border = 0, ln = 1, align='C') # we display our cell, setting fill parameter as True\n",
        "\n",
        "# line\n",
        "my_pdf.line(x1=10, y1=20, x2=200, y2=20)\n",
        "\n",
        "# container number 2 = author\n",
        "my_pdf.set_font(family='Arial', style='I', size=10)\n",
        "my_pdf.cell(w=0, h=8, txt='By Juan Martin Bellido', border = 0, ln = 1, align='L')\n",
        "\n",
        "# container number 3 = table 1\n",
        "my_pdf.set_font(family='Arial', style='I', size=8)\n",
        "my_pdf.cell(w=0, h=8, txt='Table 1: James Bond Movies', border = 0, ln = 1, align='L')\n",
        "\n",
        "# table 1\n",
        "image_location = 'james_bond_report/table_1.png'\n",
        "my_pdf.image(image_location, x = 10, y = 40, w = 100, h = 0, type = '')\n",
        "\n",
        "# PAGE 2\n",
        "my_pdf.add_page()\n",
        "\n",
        "# container number 1 = title\n",
        "my_pdf.set_font(family='Arial', style='', size=16) # we set font\n",
        "my_pdf.cell(w=0, h=10, txt='James Bond Movies Report', border = 0, ln = 1, align='C') # we display our cell, setting fill parameter as True\n",
        "\n",
        "# line\n",
        "my_pdf.line(x1=10, y1=20, x2=200, y2=20)\n",
        "\n",
        "# container number 2 = author\n",
        "my_pdf.set_font(family='Arial', style='I', size=10)\n",
        "my_pdf.cell(w=0, h=8, txt='By Juan Martin Bellido', border = 0, ln = 1, align='L')\n",
        "\n",
        "# container number 3 = table 2\n",
        "my_pdf.set_font(family='Arial', style='I', size=8)\n",
        "my_pdf.cell(w=60, h=8, txt='Table 2: number of movies by actor', border = 0, ln = 0, align='L')\n",
        "\n",
        "# table 2\n",
        "image_location = 'james_bond_report/table_2.png'\n",
        "my_pdf.image(image_location, x = 10, y = 40, w = 30, h = 0, type = '')\n",
        "\n",
        "# container number 4 = chart 1\n",
        "my_pdf.set_font(family='Arial', style='I', size=8)\n",
        "my_pdf.cell(w=0, h=8, txt='Chart 1: Total Salary by Bond Actor', border = 0, ln = 1, align='L')\n",
        "\n",
        "# chart 1\n",
        "image_location = 'james_bond_report/chart_1.png'\n",
        "my_pdf.image(image_location, x = 70, y = 40, w = 100, h = 0, type = '')\n",
        "\n",
        "# line\n",
        "my_pdf.line(x1=10, y1=100, x2=200, y2=100)\n",
        "\n",
        "# break\n",
        "my_pdf.ln(65)\n",
        "\n",
        "# container number 4 = chart 1\n",
        "my_pdf.set_font(family='Arial', style='I', size=8)\n",
        "my_pdf.cell(w=0, h=8, txt='Chart 2: Box Office and Budget Yearly Evolution', border = 0, ln = 1, align='L')\n",
        "\n",
        "# chart 2\n",
        "image_location = 'james_bond_report/chart_2.png'\n",
        "my_pdf.image(image_location, x = 10, y = 110, w = 180, h = 0, type = '')\n",
        "\n",
        "# Metadata\n",
        "my_pdf.set_title('My First PDF')\n",
        "my_pdf.set_author('Juan Martin Bellido')\n",
        "\n",
        "# export PDF to local drive\n",
        "my_pdf.output('james_bond_report/dummy_pdf_3.pdf', 'F') # we store the report in a subfolder within path"
      ],
      "execution_count": null,
      "outputs": []
    },
    {
      "cell_type": "markdown",
      "metadata": {
        "id": "8VsEeSKGYy6y"
      },
      "source": [
        "### Fourth dummy report\n",
        "---\n",
        "Last dummy report we will be building. The point here is to show how we can save effort when building PDF documents with multiple pages by using user defined functions.\n",
        "\n",
        "*Note: we will briefly introduce how to create ad-hoc functions in Python. As this a Data Analysis course, this will only surface the topic.*\n",
        "\n",
        "To define a custom function, we use the following syntaxis\n",
        "\n",
        "```\n",
        "def function_name(parameters):\n",
        "  (function definition)\n",
        "```\n",
        "\n"
      ]
    },
    {
      "cell_type": "code",
      "metadata": {
        "id": "0GObnYz3c33C"
      },
      "source": [
        "# We will first define a function without parameters\n",
        "## when invoked, this function will simply say hi :)\n",
        "def hello_function():\n",
        "  print(\"hello there!\")"
      ],
      "execution_count": null,
      "outputs": []
    },
    {
      "cell_type": "code",
      "metadata": {
        "colab": {
          "base_uri": "https://localhost:8080/"
        },
        "id": "aRvj83-kdQGr",
        "outputId": "0d32f739-bbce-4963-f793-c176928ba675"
      },
      "source": [
        "hello_function() # we invoke the function we just built"
      ],
      "execution_count": null,
      "outputs": [
        {
          "output_type": "stream",
          "text": [
            "hello there!\n"
          ],
          "name": "stdout"
        }
      ]
    },
    {
      "cell_type": "code",
      "metadata": {
        "id": "k1YlbKUKdSxU"
      },
      "source": [
        "# We will now define a function with one parameter: name\n",
        "## we are also setting 'Data Wizard' as default value in case parameter is not inserted\n",
        "def hello_name_function(name='Data Wizard'):\n",
        "  output = 'Hello, ' + name + '!'\n",
        "  print(output)"
      ],
      "execution_count": null,
      "outputs": []
    },
    {
      "cell_type": "code",
      "metadata": {
        "colab": {
          "base_uri": "https://localhost:8080/"
        },
        "id": "XcnqNLWddjJJ",
        "outputId": "af2505df-7a29-46c4-d1af-5f1a6ab5c42b"
      },
      "source": [
        "hello_name_function('Martin') # we test our new function"
      ],
      "execution_count": null,
      "outputs": [
        {
          "output_type": "stream",
          "text": [
            "Hello, Martin!\n"
          ],
          "name": "stdout"
        }
      ]
    },
    {
      "cell_type": "code",
      "metadata": {
        "colab": {
          "base_uri": "https://localhost:8080/"
        },
        "id": "muDiLh1ueISP",
        "outputId": "f3c055de-707d-4343-ee3e-c2d075e3bd79"
      },
      "source": [
        "hello_name_function() # we check what happends when no input is provided (the function takes default value)"
      ],
      "execution_count": null,
      "outputs": [
        {
          "output_type": "stream",
          "text": [
            "Hello, Data Wizard!\n"
          ],
          "name": "stdout"
        }
      ]
    },
    {
      "cell_type": "code",
      "metadata": {
        "id": "nyI9lEYLl8C4"
      },
      "source": [
        "# We first define two ad-hoc functions to build our header and footer\n",
        "def my_header():\n",
        "    # PDF Header\n",
        "    my_pdf.set_xy(x=10 ,y=1)\n",
        "    my_pdf.set_font('Arial', 'I', 7)\n",
        "    my_pdf.cell(w=0, h=7, txt='My Report (this is a header)', border = 0, ln = 1, align='L')\n",
        "    my_pdf.line(x1=10, y1=7, x2=200, y2=7)\n",
        "\n",
        "def my_footer():\n",
        "    # PDF Footer\n",
        "    my_pdf.set_xy(x=10 ,y=265)\n",
        "    my_pdf.set_font('Arial', 'I', 8)\n",
        "    text = 'Page number ' + str(my_pdf.page_no())\n",
        "    ## the str() function turns the object into text (so that we can concatenate it)\n",
        "    ## my_pdf.page_no() provides page number\n",
        "    my_pdf.cell(w=0, h=8, txt=text, border = 0, ln = 1, align='C')\n",
        "    my_pdf.line(x1=10, y1=265, x2=200, y2=265)"
      ],
      "execution_count": null,
      "outputs": []
    },
    {
      "cell_type": "code",
      "metadata": {
        "id": "etplLBp8l1Cb"
      },
      "source": [
        "# DUMMY PDF 4: Including header and footer\n",
        "\n",
        "# we create a blank PDF object\n",
        "my_pdf = FPDF()\n",
        "\n",
        "# PAGE 1\n",
        "my_pdf.add_page()\n",
        "\n",
        "my_header() # header function\n",
        "my_footer() # footer function\n",
        "\n",
        "# Body\n",
        "my_pdf.line(x1=20, y1=20, x2=190, y2=20)\n",
        "my_pdf.line(x1=20, y1=250, x2=190, y2=250)\n",
        "my_pdf.line(x1=20, y1=20, x2=20, y2=250)\n",
        "my_pdf.line(x1=190, y1=20, x2=190, y2=250)\n",
        "\n",
        "my_pdf.set_xy(x=10 ,y=60)\n",
        "my_pdf.cell(w=0, h=20, txt='BODY', border = 0, ln = 1, align='C')\n",
        "\n",
        "# PAGE 2\n",
        "my_pdf.add_page()\n",
        "\n",
        "my_header() # header function\n",
        "my_footer() # footer function\n",
        "\n",
        "# Body\n",
        "my_pdf.line(x1=20, y1=20, x2=190, y2=20)\n",
        "my_pdf.line(x1=20, y1=250, x2=190, y2=250)\n",
        "my_pdf.line(x1=20, y1=20, x2=20, y2=250)\n",
        "my_pdf.line(x1=190, y1=20, x2=190, y2=250)\n",
        "\n",
        "my_pdf.set_xy(x=10 ,y=60)\n",
        "my_pdf.cell(w=0, h=20, txt='BODY', border = 0, ln = 1, align='C')\n",
        "\n",
        "my_pdf.output('dummy_pdf_4.pdf', 'F')"
      ],
      "execution_count": null,
      "outputs": []
    },
    {
      "cell_type": "markdown",
      "metadata": {
        "id": "UJFehThgLUq1"
      },
      "source": [
        "# EXERCISES"
      ]
    },
    {
      "cell_type": "markdown",
      "metadata": {
        "id": "hmMQVikzUfjf"
      },
      "source": [
        "##### EX 1\n",
        "Reproduce [this](https://drive.google.com/file/d/1gH_ZW34eiRWs-Y1bhmmTpM2wFritFJI1/view?usp=sharing) PDF document. Plese note that code should be run in your local environment\n",
        "\n",
        "---\n"
      ]
    },
    {
      "cell_type": "code",
      "metadata": {
        "id": "NsFLwIx4RR7C"
      },
      "source": [
        "# Importing libraries\n",
        "import pandas as pd\n",
        "import fpdf\n",
        "from fpdf import FPDF"
      ],
      "execution_count": null,
      "outputs": []
    },
    {
      "cell_type": "code",
      "metadata": {
        "id": "ZY8AzIWvRS0b"
      },
      "source": [
        "# EX 1\n",
        "# we create a blank PDF object\n",
        "my_pdf = FPDF()\n",
        "\n",
        "# let us create a first blank page\n",
        "my_pdf.add_page()\n",
        "\n",
        "# container number 1 = title\n",
        "my_pdf.set_fill_color(r=0, g=0, b=0) # we change cell background color to black; color ref -> https://htmlcolorcodes.com/es/\n",
        "my_pdf.set_text_color(r=255, g=255, b=255) # we change text color to white\n",
        "my_pdf.set_font(family='Arial', style='', size=16) # we set font\n",
        "my_pdf.cell(w=0, h=10, txt='This is a PDF Report', border = 1, ln = 1, align='C', fill=True)\n",
        "## fill=True -> this is will include background color to the container (color based on what we set in .set_fill_color())\n",
        "\n",
        "# container number 2 = author\n",
        "my_pdf.set_text_color(r=0, g=0, b=0) # we change text color back to normal (black)\n",
        "my_pdf.set_font(family='Arial', style='I', size=10)\n",
        "my_pdf.cell(w=0, h=8, txt='This PDF was built programatically using Python!', border = 0, ln = 0, align='L')\n",
        "## ln=0 -> this is set as 0, so that the next cell is placed on the right (and not below)\n",
        "my_pdf.cell(w=0, h=8, txt='This is the PDF you need to reproduce', border = 0, ln = 1, align='R')\n",
        "\n",
        "# break\n",
        "my_pdf.ln(10)\n",
        "\n",
        "# image\n",
        "image_location = 'Logo-ieb.jpeg'\n",
        "link = 'https://www.ieb.es/inicio-ieb/'\n",
        "my_pdf.image(image_location, x = 10, y = 37, w = 30, h = 0, type = '', link = link)\n",
        "## the image is being imported from the internet\n",
        "## we include a hyperlink\n",
        "## important: images are placed using coordinates (x and y) and are independent of other containers\n",
        "\n",
        "# container number 3 = title\n",
        "my_pdf.set_xy(x=45, y=36) # this establishes coordinates for next cells; we change coordinate X to force text to fit image\n",
        "my_pdf.set_font(family='Arial', style='B', size=16) # we set font\n",
        "my_pdf.cell(w=0, h=8, txt='Instituto Estudios Bursátiles', border = 0, ln = 1, align='L')\n",
        "\n",
        "# container number 4 = long text\n",
        "my_pdf.set_xy(x=45, y=44) # this establishes coordinates for next cells; we change coordinate X to force text to fit image\n",
        "my_pdf.set_font(family='Arial', style='', size=10) # we set font\n",
        "txt_input = 'Instituto de Estudios Bursátiles (Institute of Stock Exchange Studies, often referred to as the IEB) is a higher education institution founded in 1989 in Madrid, Spain. It is a pioneer center in Spain in teaching Financial Economics and an official provider for many international designations, such as CFM, CFA and CAIA.'\n",
        "my_pdf.multi_cell(w=100, h=5, txt=txt_input, border = 0, align='L', fill= False)   \n",
        "\n",
        "# Metadata\n",
        "my_pdf.set_title('Exercise 1')\n",
        "my_pdf.set_author('Juan Martin Bellido')\n",
        "\n",
        "# export PDF to local drive\n",
        "my_pdf.output('pdf_output.pdf', 'F')"
      ],
      "execution_count": null,
      "outputs": []
    }
  ]
}