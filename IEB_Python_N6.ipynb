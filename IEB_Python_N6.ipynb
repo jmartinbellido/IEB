{
  "nbformat": 4,
  "nbformat_minor": 0,
  "metadata": {
    "colab": {
      "name": "IEB_Python_N6.ipynb",
      "provenance": [],
      "collapsed_sections": [],
      "toc_visible": true
    },
    "kernelspec": {
      "name": "python3",
      "display_name": "Python 3"
    }
  },
  "cells": [
    {
      "cell_type": "markdown",
      "metadata": {
        "id": "Iq0dLzFr2tux"
      },
      "source": [
        "# TABLE OF CONTENTS\n",
        "# **IEB MiM&A** \n",
        "# Introduction to Python for Data Analysis 🐍📊\n",
        "# *Notebook 6: Importing and Exporting Data*\n",
        "---\n",
        "\n",
        "### TABLE OF CONTENTS\n",
        "1. INTERACTING W/ OPERATING SYSTEM\n",
        "2. IMPORTING/EXPORTING CSV, TXT, XLSX \n",
        "3. SCRAPING THE WEB\n",
        "4. OPERATING W/ APIs\n",
        "4. EXERCISES\n",
        "\n",
        "### 🧑‍🏫 Juan Martin Bellido\n",
        "* [linkedin.com/in/jmartinbellido](https://www.linkedin.com/in/jmartinbellido/)\n",
        "* juan.martin.bellido.arias@claustro-ieb.es\n",
        "\n",
        "*Please note that this notebook should be run in your local environment*\n"
      ]
    },
    {
      "cell_type": "markdown",
      "metadata": {
        "id": "6EMZLXKAxgOu"
      },
      "source": [
        "# INTERACTING W/ OPERATING SYSTEM\n",
        "---\n",
        "The *os* library contains functions that help interact with operating system (works for both Windows, Mac and Linux). Functions to be introduced in this section,\n",
        "\n",
        "| # | Function    | Description                                  | Key Parameters     |\n",
        "|---|-------------|----------------------------------------------|--------------------|\n",
        "| 1 | os.getcwd() | *Shows path to current working directory*    |                    |\n",
        "| 2 | os.mkdir()  | *Creates folder on given path*               | 'path/folder_name' |\n",
        "| 3 | os.chdir()  | *Changes working directory to path provided* | 'path/folder_name' |\n",
        "| 4 | os.rmdir()  | *Removes folder*                             | 'path/folder_name' |\n",
        "\n",
        "\n",
        "\n",
        "\n"
      ]
    },
    {
      "cell_type": "code",
      "source": [
        "# Importing libraries\n",
        "import os"
      ],
      "metadata": {
        "id": "GSR6FEzGo_QE"
      },
      "execution_count": null,
      "outputs": []
    },
    {
      "cell_type": "code",
      "metadata": {
        "id": "IEAZPwOs_oDP"
      },
      "source": [
        "# Import dataframe\n",
        "df_jamesbond = pd.read_csv(\"https://data-wizards.s3.amazonaws.com/datasets/jamesbond.csv\",index_col=\"Film\")"
      ],
      "execution_count": 2,
      "outputs": []
    },
    {
      "cell_type": "markdown",
      "metadata": {
        "id": "xH5M7lBjA8_u"
      },
      "source": [
        "### Interacting with operating system\n",
        "---"
      ]
    },
    {
      "cell_type": "code",
      "metadata": {
        "id": "sgeQztF1NP-B"
      },
      "source": [
        "# we begin by checking current working directory\n",
        "os.getcwd()"
      ],
      "execution_count": null,
      "outputs": []
    },
    {
      "cell_type": "code",
      "metadata": {
        "id": "C0SO_PefNQAg"
      },
      "source": [
        "# we now create a new folder in our working directory\n",
        "os.mkdir('new_folder')\n",
        "## as we do not provide a full path (simply a name), python understands that the folder is to be set in our working directory\n",
        "## alternatively, we could set a full path --> os.mkdir('path/new_folder')"
      ],
      "execution_count": null,
      "outputs": []
    },
    {
      "cell_type": "code",
      "metadata": {
        "id": "ZZ64OntTO8Lu"
      },
      "source": [
        "# we can set a new working directory\n",
        "os.chdir('new_folder') # let's set \"new folder\" as the new wd\n",
        "os.getcwd() # let us check the new working directory"
      ],
      "execution_count": null,
      "outputs": []
    },
    {
      "cell_type": "code",
      "metadata": {
        "id": "F3tJq8-xNQCq"
      },
      "source": [
        "# finally, we will remove the folder we created\n",
        "os.rmdir('new_folder')"
      ],
      "execution_count": null,
      "outputs": []
    },
    {
      "cell_type": "markdown",
      "metadata": {
        "id": "GCT9M535ABjf"
      },
      "source": [
        "# IMPORTING/EXPORTING CSV, TXT, XLSX\n",
        "---\n",
        "\n",
        "Most popular formats used for importing datasets are *csv*, *xlsx* and *txt*.\n",
        "\n",
        "| # | Function         | Description                                       | Key Parameters                  |\n",
        "|---|------------------|---------------------------------------------------|---------------------------------|\n",
        "| 1 | pd.read_csv()    | *Imports dataframe from URL or local drive*       | 'path/file_name', sep=','/'\\t'  |\n",
        "| 2 | df.to_csv()      | *Exports dataframe to local drive*                | 'path/file_name', sep=','/'\\t'  |\n",
        "| 3 | df.to_excel()    | *Exports dataframe to a single sheet Excel file*  | 'path/file_name', sheet_name='' |\n",
        "| 4 | pd.ExcelWriter() | *Generates a blank Excel file in memory*          | 'path/file_name'                |\n",
        "| 5 | wb.save()        | *Exports Excel file stored in memory*             |                                 |\n",
        "| 6 | pd.read_excel()  | *Reads a sheet from an Excel file stored locally* | 'path/file_name', sheet_name='' |"
      ]
    },
    {
      "cell_type": "code",
      "source": [
        "# Importing libraries\n",
        "import pandas as pd"
      ],
      "metadata": {
        "id": "ACY34WGopBsW"
      },
      "execution_count": null,
      "outputs": []
    },
    {
      "cell_type": "code",
      "metadata": {
        "id": "42JLKeZIgQv9"
      },
      "source": [
        "# Importing dataframes\n",
        "df_starwars = pd.read_csv(\"https://data-wizards.s3.amazonaws.com/datasets/dataset_star_wars.csv\")\n",
        "df_jamesbond = pd.read_csv(\"https://data-wizards.s3.amazonaws.com/datasets/jamesbond.csv\")"
      ],
      "execution_count": null,
      "outputs": []
    },
    {
      "cell_type": "markdown",
      "metadata": {
        "id": "7RUZafM5YkK3"
      },
      "source": [
        "#### Exporting and importing csv/txt files"
      ]
    },
    {
      "cell_type": "code",
      "metadata": {
        "id": "AZHgPheMHoem"
      },
      "source": [
        "# we start using pandas function \"to_csv\" to export locally a dataframe\n",
        "df_jamesbond.to_csv(\"dataset_jamesbond.csv\")\n",
        "## alternatively, we could provide a specific path -> df_jamesbond.to_csv(\"path/dataset_jamesbond.csv\")"
      ],
      "execution_count": null,
      "outputs": []
    },
    {
      "cell_type": "code",
      "metadata": {
        "id": "u0KMWEN9XhQ8"
      },
      "source": [
        "# we can use the same function to export dataframe as txt (tab delimited) file\n",
        "df_jamesbond.to_csv(\"dataset_jamesbond.txt\",sep='\\t') # we need to edit parameter \"sep\" to force tab delimited format"
      ],
      "execution_count": null,
      "outputs": []
    },
    {
      "cell_type": "code",
      "metadata": {
        "id": "CsO3XJ1kYFSS"
      },
      "source": [
        "# we use pandas function \"read_csv\" to import file stored locally\n",
        "pd.read_csv(\"dataset_jamesbond.csv\")\n",
        "## alternatively, we could provide a specific path -> df_jamesbond.read_csv(\"path/dataset_jamesbond.csv\")"
      ],
      "execution_count": null,
      "outputs": []
    },
    {
      "cell_type": "code",
      "metadata": {
        "id": "8olUYtThYE9X"
      },
      "source": [
        "# the same function serves to read tab delimited files\n",
        "pd.read_csv(\"dataset_jamesbond.txt\",sep='\\t')"
      ],
      "execution_count": null,
      "outputs": []
    },
    {
      "cell_type": "markdown",
      "metadata": {
        "id": "81-ksg0oYqQs"
      },
      "source": [
        "#### Writing and importing an Excel file"
      ]
    },
    {
      "cell_type": "code",
      "metadata": {
        "id": "OD_k1i0Df05L"
      },
      "source": [
        "# let us start exporting a dataframe as a single sheet excel file\n",
        "df_jamesbond.to_excel('my_excel_file.xlsx', sheet_name='james_bond')"
      ],
      "execution_count": null,
      "outputs": []
    },
    {
      "cell_type": "code",
      "metadata": {
        "id": "nj1pKRTYf5yy"
      },
      "source": [
        "# the issue with this method is when we want to store more than one sheet on the same excel file\n",
        "## this method overwrites the existing excel file (if there was one with the same name) \n",
        "df_starwars.to_excel('my_excel_file.xlsx', sheet_name='star_wars')"
      ],
      "execution_count": null,
      "outputs": []
    },
    {
      "cell_type": "code",
      "metadata": {
        "id": "2L3-I_XHY07V"
      },
      "source": [
        "# to create a multiple sheet excel file, we need some extra steps\n",
        "\n",
        "# create an \"excel writer\"\n",
        "wb = pd.ExcelWriter('my_excel_file_v2.xlsx') # here, we specify the name of the excel file\n",
        "# write dataframe to excel sheets \n",
        "df_jamesbond.to_excel(wb, 'Sheet_James_Bond') # here, we create a sheet and store data on it\n",
        "df_starwars.to_excel(wb, 'Sheet_Star_Wars') # we create a second sheet and store data on it\n",
        "# save the excel file\n",
        "wb.save()"
      ],
      "execution_count": null,
      "outputs": []
    },
    {
      "cell_type": "code",
      "metadata": {
        "id": "oPdZqxABf8Of"
      },
      "source": [
        "# the read_excel method allows to import a dataframe stored on a specific sheet\n",
        "## when not specifying sheet name, pandas will automatically import the first sheet in excel file\n",
        "pd.read_excel('my_excel_file_v2.xlsx', sheet_name='Sheet_Star_Wars')"
      ],
      "execution_count": null,
      "outputs": []
    },
    {
      "cell_type": "markdown",
      "source": [
        "# SCRAPING THE WEB\n",
        "---"
      ],
      "metadata": {
        "id": "hfmnn0Qib6LL"
      }
    },
    {
      "cell_type": "code",
      "source": [
        "# Importing libraries\n",
        "import pandas as pd\n",
        "import requests\n",
        "import bs4"
      ],
      "metadata": {
        "id": "RMaZrLAjo7D6"
      },
      "execution_count": null,
      "outputs": []
    },
    {
      "cell_type": "markdown",
      "source": [
        "### Pulling basic information from the web"
      ],
      "metadata": {
        "id": "tRtZI8zXlY9z"
      }
    },
    {
      "cell_type": "code",
      "source": [
        "# we use the get() function to read html from a website\n",
        "web_page = requests.get(\"https://es.wikipedia.org/wiki/Anexo:Municipios_de_Espa%C3%B1a_por_poblaci%C3%B3n\")\n"
      ],
      "metadata": {
        "id": "JakrcQ7Yb9iA"
      },
      "execution_count": 4,
      "outputs": []
    },
    {
      "cell_type": "code",
      "source": [
        "# we use now BeautifulSoup() to clean html scraped from web\n",
        "soup = bs4.BeautifulSoup(web_page.text,\"lxml\")"
      ],
      "metadata": {
        "id": "Mes-SoPyb9kh"
      },
      "execution_count": 5,
      "outputs": []
    },
    {
      "cell_type": "code",
      "source": [
        "# from now on, we can extract specific elements from html\n",
        "soup.select(\"title\")"
      ],
      "metadata": {
        "colab": {
          "base_uri": "https://localhost:8080/"
        },
        "id": "i9FCDgw5lnBx",
        "outputId": "f182acbf-9a12-45c6-b157-fac7d04191f7"
      },
      "execution_count": 6,
      "outputs": [
        {
          "output_type": "execute_result",
          "data": {
            "text/plain": [
              "[<title>Anexo:Municipios de España por población - Wikipedia, la enciclopedia libre</title>]"
            ]
          },
          "metadata": {},
          "execution_count": 6
        }
      ]
    },
    {
      "cell_type": "code",
      "source": [
        "# to get even cleaner text, we use .getText()\n",
        "soup.select(\"title\")[0].getText()"
      ],
      "metadata": {
        "colab": {
          "base_uri": "https://localhost:8080/",
          "height": 35
        },
        "id": "phzaYkWElnER",
        "outputId": "f7d61d65-bc2f-4bd8-d299-36eb6eefc093"
      },
      "execution_count": 7,
      "outputs": [
        {
          "output_type": "execute_result",
          "data": {
            "application/vnd.google.colaboratory.intrinsic+json": {
              "type": "string"
            },
            "text/plain": [
              "'Anexo:Municipios de España por población - Wikipedia, la enciclopedia libre'"
            ]
          },
          "metadata": {},
          "execution_count": 7
        }
      ]
    },
    {
      "cell_type": "code",
      "source": [
        "# selecting h2 titles\n",
        "soup.select(\"h2\")[2].getText()"
      ],
      "metadata": {
        "colab": {
          "base_uri": "https://localhost:8080/",
          "height": 35
        },
        "id": "IKiQEwGQlnGT",
        "outputId": "0b160a95-c701-4fa5-9362-271a4a2ec7f5"
      },
      "execution_count": 8,
      "outputs": [
        {
          "output_type": "execute_result",
          "data": {
            "application/vnd.google.colaboratory.intrinsic+json": {
              "type": "string"
            },
            "text/plain": [
              "'Municipios con más de 200 000 y menos de 500 000 habitantes[editar]'"
            ]
          },
          "metadata": {},
          "execution_count": 8
        }
      ]
    },
    {
      "cell_type": "code",
      "source": [
        "# we could build a loop to print all titles\n",
        "titles = soup.select(\"h2\")\n",
        "for t in titles:\n",
        "    print(t.getText())"
      ],
      "metadata": {
        "colab": {
          "base_uri": "https://localhost:8080/"
        },
        "id": "bhKqxeI5mTpN",
        "outputId": "87abfc68-894b-4c62-eeeb-935dc0ccec1b"
      },
      "execution_count": 9,
      "outputs": [
        {
          "output_type": "stream",
          "name": "stdout",
          "text": [
            "Índice\n",
            "Municipios con más de 500 000 habitantes[editar]\n",
            "Municipios con más de 200 000 y menos de 500 000 habitantes[editar]\n",
            "Municipios con más de 100 000 y menos de 200 000 habitantes[editar]\n",
            "Municipios con más de 50 000 y menos de 100 000 habitantes[editar]\n",
            "Municipios con más de 20 000 y menos de 50 000 habitantes[editar]\n",
            "Municipios con más de 10 000 y menos de 20 000 habitantes[editar]\n",
            "Municipios con más de 5 000 y menos de 10 000 habitantes[editar]\n",
            "Población por municipios[editar]\n",
            "Véase también[editar]\n",
            "Referencias[editar]\n",
            "Menú de navegación\n"
          ]
        }
      ]
    },
    {
      "cell_type": "markdown",
      "source": [
        "### Pulling more from website"
      ],
      "metadata": {
        "id": "4evUyplHmiC_"
      }
    },
    {
      "cell_type": "code",
      "source": [
        "# we pull the route a specific image\n",
        "soup.select(\"img\")[0]['src']"
      ],
      "metadata": {
        "colab": {
          "base_uri": "https://localhost:8080/",
          "height": 53
        },
        "id": "ZCJmSdiNmSnZ",
        "outputId": "4aff36ab-1c50-499a-91bb-f1b64a083f30"
      },
      "execution_count": 10,
      "outputs": [
        {
          "output_type": "execute_result",
          "data": {
            "application/vnd.google.colaboratory.intrinsic+json": {
              "type": "string"
            },
            "text/plain": [
              "'//upload.wikimedia.org/wikipedia/commons/thumb/3/36/Municipalities_of_Spain.svg/400px-Municipalities_of_Spain.svg.png'"
            ]
          },
          "metadata": {},
          "execution_count": 10
        }
      ]
    },
    {
      "cell_type": "code",
      "source": [
        "# Note: this is markdown, please run this as a markdown cell\n",
        "# We use route extracted to display image\n",
        "<img src=\"//upload.wikimedia.org/wikipedia/commons/thumb/3/36/Municipalities_of_Spain.svg/400px-Municipalities_of_Spain.svg.png\">"
      ],
      "metadata": {
        "id": "Y_6xQ9p3mR-b"
      },
      "execution_count": null,
      "outputs": []
    },
    {
      "cell_type": "markdown",
      "source": [
        "<img src=\"//upload.wikimedia.org/wikipedia/commons/thumb/3/36/Municipalities_of_Spain.svg/400px-Municipalities_of_Spain.svg.png\">"
      ],
      "metadata": {
        "id": "yCx_My0QnIIO"
      }
    },
    {
      "cell_type": "code",
      "source": [
        "# we now use findAll() to search for specific elements in html\n",
        "web_table=soup.findAll('table',{'class':\"wikitable\"})"
      ],
      "metadata": {
        "id": "H9VW1gstmuZp"
      },
      "execution_count": 11,
      "outputs": []
    },
    {
      "cell_type": "code",
      "source": [
        "# we use pandas read_html() to convert html tables into a pandas DataFrame\n",
        "df=pd.read_html(str(web_table))\n",
        "df[0]"
      ],
      "metadata": {
        "colab": {
          "base_uri": "https://localhost:8080/",
          "height": 281
        },
        "id": "_7XNfuJRmub_",
        "outputId": "3a343314-2da5-489a-9246-c152947ad4c6"
      },
      "execution_count": 12,
      "outputs": [
        {
          "output_type": "execute_result",
          "data": {
            "text/html": [
              "\n",
              "  <div id=\"df-27bc1197-51a1-4585-81dd-7d6fa88711b6\">\n",
              "    <div class=\"colab-df-container\">\n",
              "      <div>\n",
              "<style scoped>\n",
              "    .dataframe tbody tr th:only-of-type {\n",
              "        vertical-align: middle;\n",
              "    }\n",
              "\n",
              "    .dataframe tbody tr th {\n",
              "        vertical-align: top;\n",
              "    }\n",
              "\n",
              "    .dataframe thead th {\n",
              "        text-align: right;\n",
              "    }\n",
              "</style>\n",
              "<table border=\"1\" class=\"dataframe\">\n",
              "  <thead>\n",
              "    <tr style=\"text-align: right;\">\n",
              "      <th></th>\n",
              "      <th>N.º</th>\n",
              "      <th>Nombre</th>\n",
              "      <th>Población(1 de enero de 2021)</th>\n",
              "      <th>Provincia</th>\n",
              "      <th>Comunidad autónoma</th>\n",
              "    </tr>\n",
              "  </thead>\n",
              "  <tbody>\n",
              "    <tr>\n",
              "      <th>0</th>\n",
              "      <td>1</td>\n",
              "      <td>Madrid</td>\n",
              "      <td>3 305 408</td>\n",
              "      <td>Comunidad de Madrid</td>\n",
              "      <td>Comunidad de Madrid</td>\n",
              "    </tr>\n",
              "    <tr>\n",
              "      <th>1</th>\n",
              "      <td>2</td>\n",
              "      <td>Barcelona</td>\n",
              "      <td>1 636 732</td>\n",
              "      <td>Barcelona</td>\n",
              "      <td>Cataluña</td>\n",
              "    </tr>\n",
              "    <tr>\n",
              "      <th>2</th>\n",
              "      <td>3</td>\n",
              "      <td>Valencia</td>\n",
              "      <td>789 744</td>\n",
              "      <td>Valencia</td>\n",
              "      <td>Comunidad Valenciana</td>\n",
              "    </tr>\n",
              "    <tr>\n",
              "      <th>3</th>\n",
              "      <td>4</td>\n",
              "      <td>Sevilla</td>\n",
              "      <td>684 234</td>\n",
              "      <td>Sevilla</td>\n",
              "      <td>Andalucía</td>\n",
              "    </tr>\n",
              "    <tr>\n",
              "      <th>4</th>\n",
              "      <td>5</td>\n",
              "      <td>Zaragoza</td>\n",
              "      <td>675 301</td>\n",
              "      <td>Zaragoza</td>\n",
              "      <td>Aragón</td>\n",
              "    </tr>\n",
              "    <tr>\n",
              "      <th>5</th>\n",
              "      <td>6</td>\n",
              "      <td>Málaga</td>\n",
              "      <td>577 405</td>\n",
              "      <td>Málaga</td>\n",
              "      <td>Andalucía</td>\n",
              "    </tr>\n",
              "  </tbody>\n",
              "</table>\n",
              "</div>\n",
              "      <button class=\"colab-df-convert\" onclick=\"convertToInteractive('df-27bc1197-51a1-4585-81dd-7d6fa88711b6')\"\n",
              "              title=\"Convert this dataframe to an interactive table.\"\n",
              "              style=\"display:none;\">\n",
              "        \n",
              "  <svg xmlns=\"http://www.w3.org/2000/svg\" height=\"24px\"viewBox=\"0 0 24 24\"\n",
              "       width=\"24px\">\n",
              "    <path d=\"M0 0h24v24H0V0z\" fill=\"none\"/>\n",
              "    <path d=\"M18.56 5.44l.94 2.06.94-2.06 2.06-.94-2.06-.94-.94-2.06-.94 2.06-2.06.94zm-11 1L8.5 8.5l.94-2.06 2.06-.94-2.06-.94L8.5 2.5l-.94 2.06-2.06.94zm10 10l.94 2.06.94-2.06 2.06-.94-2.06-.94-.94-2.06-.94 2.06-2.06.94z\"/><path d=\"M17.41 7.96l-1.37-1.37c-.4-.4-.92-.59-1.43-.59-.52 0-1.04.2-1.43.59L10.3 9.45l-7.72 7.72c-.78.78-.78 2.05 0 2.83L4 21.41c.39.39.9.59 1.41.59.51 0 1.02-.2 1.41-.59l7.78-7.78 2.81-2.81c.8-.78.8-2.07 0-2.86zM5.41 20L4 18.59l7.72-7.72 1.47 1.35L5.41 20z\"/>\n",
              "  </svg>\n",
              "      </button>\n",
              "      \n",
              "  <style>\n",
              "    .colab-df-container {\n",
              "      display:flex;\n",
              "      flex-wrap:wrap;\n",
              "      gap: 12px;\n",
              "    }\n",
              "\n",
              "    .colab-df-convert {\n",
              "      background-color: #E8F0FE;\n",
              "      border: none;\n",
              "      border-radius: 50%;\n",
              "      cursor: pointer;\n",
              "      display: none;\n",
              "      fill: #1967D2;\n",
              "      height: 32px;\n",
              "      padding: 0 0 0 0;\n",
              "      width: 32px;\n",
              "    }\n",
              "\n",
              "    .colab-df-convert:hover {\n",
              "      background-color: #E2EBFA;\n",
              "      box-shadow: 0px 1px 2px rgba(60, 64, 67, 0.3), 0px 1px 3px 1px rgba(60, 64, 67, 0.15);\n",
              "      fill: #174EA6;\n",
              "    }\n",
              "\n",
              "    [theme=dark] .colab-df-convert {\n",
              "      background-color: #3B4455;\n",
              "      fill: #D2E3FC;\n",
              "    }\n",
              "\n",
              "    [theme=dark] .colab-df-convert:hover {\n",
              "      background-color: #434B5C;\n",
              "      box-shadow: 0px 1px 3px 1px rgba(0, 0, 0, 0.15);\n",
              "      filter: drop-shadow(0px 1px 2px rgba(0, 0, 0, 0.3));\n",
              "      fill: #FFFFFF;\n",
              "    }\n",
              "  </style>\n",
              "\n",
              "      <script>\n",
              "        const buttonEl =\n",
              "          document.querySelector('#df-27bc1197-51a1-4585-81dd-7d6fa88711b6 button.colab-df-convert');\n",
              "        buttonEl.style.display =\n",
              "          google.colab.kernel.accessAllowed ? 'block' : 'none';\n",
              "\n",
              "        async function convertToInteractive(key) {\n",
              "          const element = document.querySelector('#df-27bc1197-51a1-4585-81dd-7d6fa88711b6');\n",
              "          const dataTable =\n",
              "            await google.colab.kernel.invokeFunction('convertToInteractive',\n",
              "                                                     [key], {});\n",
              "          if (!dataTable) return;\n",
              "\n",
              "          const docLinkHtml = 'Like what you see? Visit the ' +\n",
              "            '<a target=\"_blank\" href=https://colab.research.google.com/notebooks/data_table.ipynb>data table notebook</a>'\n",
              "            + ' to learn more about interactive tables.';\n",
              "          element.innerHTML = '';\n",
              "          dataTable['output_type'] = 'display_data';\n",
              "          await google.colab.output.renderOutput(dataTable, element);\n",
              "          const docLink = document.createElement('div');\n",
              "          docLink.innerHTML = docLinkHtml;\n",
              "          element.appendChild(docLink);\n",
              "        }\n",
              "      </script>\n",
              "    </div>\n",
              "  </div>\n",
              "  "
            ],
            "text/plain": [
              "   N.º     Nombre  ...            Provincia    Comunidad autónoma\n",
              "0    1     Madrid  ...  Comunidad de Madrid   Comunidad de Madrid\n",
              "1    2  Barcelona  ...            Barcelona              Cataluña\n",
              "2    3   Valencia  ...             Valencia  Comunidad Valenciana\n",
              "3    4    Sevilla  ...              Sevilla             Andalucía\n",
              "4    5   Zaragoza  ...             Zaragoza                Aragón\n",
              "5    6     Málaga  ...               Málaga             Andalucía\n",
              "\n",
              "[6 rows x 5 columns]"
            ]
          },
          "metadata": {},
          "execution_count": 12
        }
      ]
    },
    {
      "cell_type": "markdown",
      "source": [
        "### Alternative: pulling table directly using pandas"
      ],
      "metadata": {
        "id": "P79kY8j7nrVp"
      }
    },
    {
      "cell_type": "code",
      "source": [
        "# we use pandas read_html() to import table directly from the web\n",
        "# we need to use the atttrs parameter to help pandas find the table in the html\n",
        "df = pd.read_html(\n",
        "    \"https://es.wikipedia.org/wiki/Anexo:Municipios_de_Espa%C3%B1a_por_poblaci%C3%B3n\", \n",
        "    attrs={'class':\"wikitable\"}\n",
        ")\n",
        "df[2].head()"
      ],
      "metadata": {
        "colab": {
          "base_uri": "https://localhost:8080/",
          "height": 337
        },
        "id": "JXP9WN8CmueD",
        "outputId": "828fd07b-fa14-4fe3-ea54-43e24e87fbb9"
      },
      "execution_count": 14,
      "outputs": [
        {
          "output_type": "execute_result",
          "data": {
            "text/html": [
              "\n",
              "  <div id=\"df-4560c211-a8fb-49cd-9211-c3f4dc02c695\">\n",
              "    <div class=\"colab-df-container\">\n",
              "      <div>\n",
              "<style scoped>\n",
              "    .dataframe tbody tr th:only-of-type {\n",
              "        vertical-align: middle;\n",
              "    }\n",
              "\n",
              "    .dataframe tbody tr th {\n",
              "        vertical-align: top;\n",
              "    }\n",
              "\n",
              "    .dataframe thead th {\n",
              "        text-align: right;\n",
              "    }\n",
              "</style>\n",
              "<table border=\"1\" class=\"dataframe\">\n",
              "  <thead>\n",
              "    <tr style=\"text-align: right;\">\n",
              "      <th></th>\n",
              "      <th>N.º</th>\n",
              "      <th>Nombre</th>\n",
              "      <th>Población(1 de enero de 2021)</th>\n",
              "      <th>Provincia</th>\n",
              "      <th>Comunidad autónoma</th>\n",
              "    </tr>\n",
              "  </thead>\n",
              "  <tbody>\n",
              "    <tr>\n",
              "      <th>0</th>\n",
              "      <td>31</td>\n",
              "      <td>Alcalá de Henares</td>\n",
              "      <td>195 982</td>\n",
              "      <td>Comunidad de Madrid</td>\n",
              "      <td>Comunidad de Madrid</td>\n",
              "    </tr>\n",
              "    <tr>\n",
              "      <th>1</th>\n",
              "      <td>32</td>\n",
              "      <td>Fuenlabrada</td>\n",
              "      <td>192 233</td>\n",
              "      <td>Comunidad de Madrid</td>\n",
              "      <td>Comunidad de Madrid</td>\n",
              "    </tr>\n",
              "    <tr>\n",
              "      <th>2</th>\n",
              "      <td>33</td>\n",
              "      <td>San Sebastián</td>\n",
              "      <td>188 102</td>\n",
              "      <td>Guipúzcoa</td>\n",
              "      <td>País Vasco</td>\n",
              "    </tr>\n",
              "    <tr>\n",
              "      <th>3</th>\n",
              "      <td>34</td>\n",
              "      <td>Leganés</td>\n",
              "      <td>187 762</td>\n",
              "      <td>Comunidad de Madrid</td>\n",
              "      <td>Comunidad de Madrid</td>\n",
              "    </tr>\n",
              "    <tr>\n",
              "      <th>4</th>\n",
              "      <td>35</td>\n",
              "      <td>Getafe</td>\n",
              "      <td>183 095</td>\n",
              "      <td>Comunidad de Madrid</td>\n",
              "      <td>Comunidad de Madrid</td>\n",
              "    </tr>\n",
              "  </tbody>\n",
              "</table>\n",
              "</div>\n",
              "      <button class=\"colab-df-convert\" onclick=\"convertToInteractive('df-4560c211-a8fb-49cd-9211-c3f4dc02c695')\"\n",
              "              title=\"Convert this dataframe to an interactive table.\"\n",
              "              style=\"display:none;\">\n",
              "        \n",
              "  <svg xmlns=\"http://www.w3.org/2000/svg\" height=\"24px\"viewBox=\"0 0 24 24\"\n",
              "       width=\"24px\">\n",
              "    <path d=\"M0 0h24v24H0V0z\" fill=\"none\"/>\n",
              "    <path d=\"M18.56 5.44l.94 2.06.94-2.06 2.06-.94-2.06-.94-.94-2.06-.94 2.06-2.06.94zm-11 1L8.5 8.5l.94-2.06 2.06-.94-2.06-.94L8.5 2.5l-.94 2.06-2.06.94zm10 10l.94 2.06.94-2.06 2.06-.94-2.06-.94-.94-2.06-.94 2.06-2.06.94z\"/><path d=\"M17.41 7.96l-1.37-1.37c-.4-.4-.92-.59-1.43-.59-.52 0-1.04.2-1.43.59L10.3 9.45l-7.72 7.72c-.78.78-.78 2.05 0 2.83L4 21.41c.39.39.9.59 1.41.59.51 0 1.02-.2 1.41-.59l7.78-7.78 2.81-2.81c.8-.78.8-2.07 0-2.86zM5.41 20L4 18.59l7.72-7.72 1.47 1.35L5.41 20z\"/>\n",
              "  </svg>\n",
              "      </button>\n",
              "      \n",
              "  <style>\n",
              "    .colab-df-container {\n",
              "      display:flex;\n",
              "      flex-wrap:wrap;\n",
              "      gap: 12px;\n",
              "    }\n",
              "\n",
              "    .colab-df-convert {\n",
              "      background-color: #E8F0FE;\n",
              "      border: none;\n",
              "      border-radius: 50%;\n",
              "      cursor: pointer;\n",
              "      display: none;\n",
              "      fill: #1967D2;\n",
              "      height: 32px;\n",
              "      padding: 0 0 0 0;\n",
              "      width: 32px;\n",
              "    }\n",
              "\n",
              "    .colab-df-convert:hover {\n",
              "      background-color: #E2EBFA;\n",
              "      box-shadow: 0px 1px 2px rgba(60, 64, 67, 0.3), 0px 1px 3px 1px rgba(60, 64, 67, 0.15);\n",
              "      fill: #174EA6;\n",
              "    }\n",
              "\n",
              "    [theme=dark] .colab-df-convert {\n",
              "      background-color: #3B4455;\n",
              "      fill: #D2E3FC;\n",
              "    }\n",
              "\n",
              "    [theme=dark] .colab-df-convert:hover {\n",
              "      background-color: #434B5C;\n",
              "      box-shadow: 0px 1px 3px 1px rgba(0, 0, 0, 0.15);\n",
              "      filter: drop-shadow(0px 1px 2px rgba(0, 0, 0, 0.3));\n",
              "      fill: #FFFFFF;\n",
              "    }\n",
              "  </style>\n",
              "\n",
              "      <script>\n",
              "        const buttonEl =\n",
              "          document.querySelector('#df-4560c211-a8fb-49cd-9211-c3f4dc02c695 button.colab-df-convert');\n",
              "        buttonEl.style.display =\n",
              "          google.colab.kernel.accessAllowed ? 'block' : 'none';\n",
              "\n",
              "        async function convertToInteractive(key) {\n",
              "          const element = document.querySelector('#df-4560c211-a8fb-49cd-9211-c3f4dc02c695');\n",
              "          const dataTable =\n",
              "            await google.colab.kernel.invokeFunction('convertToInteractive',\n",
              "                                                     [key], {});\n",
              "          if (!dataTable) return;\n",
              "\n",
              "          const docLinkHtml = 'Like what you see? Visit the ' +\n",
              "            '<a target=\"_blank\" href=https://colab.research.google.com/notebooks/data_table.ipynb>data table notebook</a>'\n",
              "            + ' to learn more about interactive tables.';\n",
              "          element.innerHTML = '';\n",
              "          dataTable['output_type'] = 'display_data';\n",
              "          await google.colab.output.renderOutput(dataTable, element);\n",
              "          const docLink = document.createElement('div');\n",
              "          docLink.innerHTML = docLinkHtml;\n",
              "          element.appendChild(docLink);\n",
              "        }\n",
              "      </script>\n",
              "    </div>\n",
              "  </div>\n",
              "  "
            ],
            "text/plain": [
              "   N.º             Nombre  ...            Provincia   Comunidad autónoma\n",
              "0   31  Alcalá de Henares  ...  Comunidad de Madrid  Comunidad de Madrid\n",
              "1   32        Fuenlabrada  ...  Comunidad de Madrid  Comunidad de Madrid\n",
              "2   33      San Sebastián  ...            Guipúzcoa           País Vasco\n",
              "3   34            Leganés  ...  Comunidad de Madrid  Comunidad de Madrid\n",
              "4   35             Getafe  ...  Comunidad de Madrid  Comunidad de Madrid\n",
              "\n",
              "[5 rows x 5 columns]"
            ]
          },
          "metadata": {},
          "execution_count": 14
        }
      ]
    },
    {
      "cell_type": "markdown",
      "metadata": {
        "id": "mD52h4jNYy6m"
      },
      "source": [
        "# OPERATING W/ APIs\n",
        "---\n",
        "\n"
      ]
    },
    {
      "cell_type": "code",
      "source": [
        "# Importing libraries\n",
        "import pandas as pd\n",
        "import yfinance as yf"
      ],
      "metadata": {
        "id": "FWZLFvTCo0Ql"
      },
      "execution_count": null,
      "outputs": []
    },
    {
      "cell_type": "code",
      "metadata": {
        "id": "r38N5PKWYy6x"
      },
      "source": [
        "# we create an object that stores information pulled from ticker MSFT (Microsoft)\n",
        "msft = yf.Ticker(\"MSFT\")"
      ],
      "execution_count": null,
      "outputs": []
    },
    {
      "cell_type": "code",
      "source": [
        "# there are specific attributes that allow to pull info from object (e.g. P&L)\n",
        "msft.financials"
      ],
      "metadata": {
        "id": "sEp_dqbmpTtN"
      },
      "execution_count": null,
      "outputs": []
    },
    {
      "cell_type": "code",
      "source": [
        "# we pull all available data on stock rates\n",
        "msft.history(period=\"max\")"
      ],
      "metadata": {
        "id": "_zjMZ2egpTvb"
      },
      "execution_count": null,
      "outputs": []
    },
    {
      "cell_type": "code",
      "source": [
        "# alternatively, we could pull only stock rates data from a specific timeframe\n",
        "yf.download(\"MSFT\", start=\"2022-01-01\", end=\"2022-01-31\")"
      ],
      "metadata": {
        "id": "NuJcB2f0pTxt"
      },
      "execution_count": null,
      "outputs": []
    },
    {
      "cell_type": "markdown",
      "metadata": {
        "id": "UJFehThgLUq1"
      },
      "source": [
        "# EXERCISES"
      ]
    },
    {
      "cell_type": "markdown",
      "metadata": {
        "id": "hmMQVikzUfjf"
      },
      "source": [
        "##### EX 1: Wikipedia - Real Madrid\n",
        "---\n",
        "> [https://es.wikipedia.org/wiki/Real_Madrid_Club_de_Fútbol](https://es.wikipedia.org/wiki/Real_Madrid_Club_de_F%C3%BAtbol)\n",
        " \n",
        "Scrape Real Madrid FC pasge on Wikipedia. Pull the following data: *titles, image with team logo, table with club top scoreres.*\n",
        "\n",
        "\n",
        "\n"
      ]
    },
    {
      "cell_type": "code",
      "source": [
        "# Importing libraries\n",
        "import pandas as pd\n",
        "import requests\n",
        "import bs4"
      ],
      "metadata": {
        "id": "EWtf3kGYs-ea"
      },
      "execution_count": null,
      "outputs": []
    },
    {
      "cell_type": "code",
      "metadata": {
        "id": "NsFLwIx4RR7C"
      },
      "source": [
        "# scraping web, parsing object to bs\n",
        "web_page = requests.get(\"https://es.wikipedia.org/wiki/Real_Madrid_Club_de_F%C3%BAtbol\")\n",
        "soup = bs4.BeautifulSoup(web_page.text,\"lxml\")"
      ],
      "execution_count": null,
      "outputs": []
    },
    {
      "cell_type": "code",
      "metadata": {
        "id": "ZY8AzIWvRS0b"
      },
      "source": [
        "# reading title\n",
        "soup.select(\"title\")[0].getText()"
      ],
      "execution_count": null,
      "outputs": []
    },
    {
      "cell_type": "code",
      "source": [
        "# finding route to image\n",
        "soup.select(\"img\")[0]['src']"
      ],
      "metadata": {
        "id": "GO8eL8RIrImg"
      },
      "execution_count": null,
      "outputs": []
    },
    {
      "cell_type": "code",
      "source": [
        "# the following snippet should be run on a markdown cell\n",
        "<img src=\"//upload.wikimedia.org/wikipedia/commons/thumb/c/ca/ARMAN_Khanoyan.png/160px-ARMAN_Khanoyan.png\">"
      ],
      "metadata": {
        "id": "W2g7rQOqrIom"
      },
      "execution_count": null,
      "outputs": []
    },
    {
      "cell_type": "code",
      "source": [
        "# pulling all tables from a specific class\n",
        "web_tables=soup.findAll('table',{'class':\"unsortable\"})"
      ],
      "metadata": {
        "id": "9pH7OWe4rIqw"
      },
      "execution_count": null,
      "outputs": []
    },
    {
      "cell_type": "code",
      "source": [
        "# converting html table into pandas DataFrame\n",
        "df = pd.read_html(str(web_table))\n",
        "df[0]"
      ],
      "metadata": {
        "id": "0yP-WA70rIsq"
      },
      "execution_count": null,
      "outputs": []
    },
    {
      "cell_type": "markdown",
      "source": [
        "##### EX 2: API & Excel\n",
        "---\n",
        "* Use Yahoo Finance to pull daily stock rates data for Amazon (AMZN), Google (GOOG) and Meta (FB) for July, 1st 2021 till January, 31st 2022\n",
        "* Store results on an Excel file, using separate tabs for each company stock rates\n"
      ],
      "metadata": {
        "id": "ujT8CgH1rcsd"
      }
    },
    {
      "cell_type": "code",
      "source": [
        "import pandas  as pd\n",
        "import yfinance as yf"
      ],
      "metadata": {
        "id": "DoBgTr79r3Oz"
      },
      "execution_count": null,
      "outputs": []
    },
    {
      "cell_type": "code",
      "source": [
        "data_amzn = yf.download(\"AMZN\", start=\"2021-07-01\", end=\"2022-01-31\").reset_index()\n",
        "data_goog = yf.download(\"GOOG\", start=\"2021-07-01\", end=\"2022-01-31\").reset_index()\n",
        "data_fb = yf.download(\"FB\", start=\"2021-07-01\", end=\"2022-01-31\").reset_index()\n",
        "\n",
        "wb = pd.ExcelWriter('stocks.xlsx')\n",
        "data_amzn.to_excel(wb,sheet_name='amazon',index=False)\n",
        "data_goog.to_excel(wb,sheet_name='google',index=False)\n",
        "data_fb.to_excel(wb,sheet_name='meta',index=False)\n",
        "wb.save()"
      ],
      "metadata": {
        "id": "TfEUrnnjr2MM"
      },
      "execution_count": null,
      "outputs": []
    }
  ]
}